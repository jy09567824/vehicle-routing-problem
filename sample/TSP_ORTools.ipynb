{
 "cells": [
  {
   "cell_type": "markdown",
   "metadata": {},
   "source": [
    "# OR Tools for Travelling Salesman Problem (TSP)"
   ]
  },
  {
   "cell_type": "code",
   "execution_count": 13,
   "metadata": {},
   "outputs": [],
   "source": [
    "import random as rd\n",
    "import numpy as np\n",
    "import pandas as pd\n",
    "import math\n",
    "\n",
    "import time\n",
    "import datetime\n",
    "\n",
    "from ortools.constraint_solver import routing_enums_pb2\n",
    "from ortools.constraint_solver import pywrapcp\n",
    "\n",
    "import matplotlib.pyplot as plt\n",
    "import seaborn as sns"
   ]
  },
  {
   "cell_type": "markdown",
   "metadata": {},
   "source": [
    "### 1. 定義參數"
   ]
  },
  {
   "cell_type": "code",
   "execution_count": 61,
   "metadata": {},
   "outputs": [],
   "source": [
    "NUM_NODES = 16\n",
    "MAX_X, MAX_Y = 20, 20\n",
    "NUM_VEHICLES = 1\n",
    "NUM_DEPOT = 0"
   ]
  },
  {
   "cell_type": "markdown",
   "metadata": {},
   "source": [
    "### 2. 建立資料"
   ]
  },
  {
   "cell_type": "code",
   "execution_count": 67,
   "metadata": {},
   "outputs": [
    {
     "data": {
      "text/html": [
       "<div>\n",
       "<style scoped>\n",
       "    .dataframe tbody tr th:only-of-type {\n",
       "        vertical-align: middle;\n",
       "    }\n",
       "\n",
       "    .dataframe tbody tr th {\n",
       "        vertical-align: top;\n",
       "    }\n",
       "\n",
       "    .dataframe thead th {\n",
       "        text-align: right;\n",
       "    }\n",
       "</style>\n",
       "<table border=\"1\" class=\"dataframe\">\n",
       "  <thead>\n",
       "    <tr style=\"text-align: right;\">\n",
       "      <th></th>\n",
       "      <th>locations</th>\n",
       "      <th>distance_matrix</th>\n",
       "      <th>num_vehicles</th>\n",
       "      <th>depot</th>\n",
       "    </tr>\n",
       "  </thead>\n",
       "  <tbody>\n",
       "    <tr>\n",
       "      <th>0</th>\n",
       "      <td>(10, 10)</td>\n",
       "      <td>[0, 4, 7, 5, 16, 8, 9, 10, 14, 5, 5, 8, 16, 9,...</td>\n",
       "      <td>1</td>\n",
       "      <td>0</td>\n",
       "    </tr>\n",
       "    <tr>\n",
       "      <th>1</th>\n",
       "      <td>(10, 14)</td>\n",
       "      <td>[4, 0, 3, 9, 20, 12, 13, 14, 18, 1, 9, 12, 20,...</td>\n",
       "      <td>1</td>\n",
       "      <td>0</td>\n",
       "    </tr>\n",
       "    <tr>\n",
       "      <th>2</th>\n",
       "      <td>(8, 15)</td>\n",
       "      <td>[7, 3, 0, 12, 19, 15, 12, 13, 21, 2, 12, 15, 1...</td>\n",
       "      <td>1</td>\n",
       "      <td>0</td>\n",
       "    </tr>\n",
       "    <tr>\n",
       "      <th>3</th>\n",
       "      <td>(14, 9)</td>\n",
       "      <td>[5, 9, 12, 0, 19, 3, 12, 13, 9, 10, 4, 5, 19, ...</td>\n",
       "      <td>1</td>\n",
       "      <td>0</td>\n",
       "    </tr>\n",
       "    <tr>\n",
       "      <th>4</th>\n",
       "      <td>(1, 3)</td>\n",
       "      <td>[16, 20, 19, 19, 0, 20, 7, 6, 16, 21, 15, 24, ...</td>\n",
       "      <td>1</td>\n",
       "      <td>0</td>\n",
       "    </tr>\n",
       "  </tbody>\n",
       "</table>\n",
       "</div>"
      ],
      "text/plain": [
       "  locations                                    distance_matrix  num_vehicles  \\\n",
       "0  (10, 10)  [0, 4, 7, 5, 16, 8, 9, 10, 14, 5, 5, 8, 16, 9,...             1   \n",
       "1  (10, 14)  [4, 0, 3, 9, 20, 12, 13, 14, 18, 1, 9, 12, 20,...             1   \n",
       "2   (8, 15)  [7, 3, 0, 12, 19, 15, 12, 13, 21, 2, 12, 15, 1...             1   \n",
       "3   (14, 9)  [5, 9, 12, 0, 19, 3, 12, 13, 9, 10, 4, 5, 19, ...             1   \n",
       "4    (1, 3)  [16, 20, 19, 19, 0, 20, 7, 6, 16, 21, 15, 24, ...             1   \n",
       "\n",
       "   depot  \n",
       "0      0  \n",
       "1      0  \n",
       "2      0  \n",
       "3      0  \n",
       "4      0  "
      ]
     },
     "execution_count": 67,
     "metadata": {},
     "output_type": "execute_result"
    }
   ],
   "source": [
    "def create_data_model():\n",
    "    data = {}\n",
    "    data['locations'] = [(int(np.random.uniform(0, MAX_X)), int(np.random.uniform(0, MAX_Y))) for i in range(NUM_NODES)]\n",
    "    data['locations'][0] = (int(MAX_X/2), int(MAX_Y/2))\n",
    "    data[\"distance_matrix\"] = compute_manhattan_distance_matrix(data['locations'])\n",
    "    data[\"num_vehicles\"] = NUM_VEHICLES\n",
    "    data[\"depot\"] = NUM_DEPOT\n",
    "    return data\n",
    "\n",
    "def compute_manhattan_distance_matrix(nodes): # 取得曼哈頓距離距離矩陣\n",
    "    distance_matrix = []\n",
    "    for node_i in nodes:\n",
    "        distances = []\n",
    "        for node_j in nodes:\n",
    "            if node_i == node_j:\n",
    "                distances.append(0)\n",
    "            else:\n",
    "                manhattan_distance = np.sum(np.abs(np.array(node_i) - np.array(node_j)))\n",
    "                distances.append(manhattan_distance)\n",
    "        distance_matrix.append(distances)\n",
    "    return distance_matrix\n",
    "\n",
    "def compute_euclidean_distance_matrix(locations): # 計算歐式距離距離矩陣\n",
    "    distances = {}\n",
    "    for from_counter, from_node in enumerate(locations):\n",
    "        distances[from_counter] = {}\n",
    "        for to_counter, to_node in enumerate(locations):\n",
    "            if from_counter == to_counter:\n",
    "                distances[from_counter][to_counter] = 0\n",
    "            else:\n",
    "                # Euclidean distance\n",
    "                distances[from_counter][to_counter] = int(\n",
    "                    math.hypot((from_node[0] - to_node[0]), (from_node[1] - to_node[1]))\n",
    "                )\n",
    "    return distances\n",
    "\n",
    "data = create_data_model()\n",
    "pd.DataFrame(data).head()"
   ]
  },
  {
   "cell_type": "code",
   "execution_count": 68,
   "metadata": {},
   "outputs": [],
   "source": [
    "data = {}\n",
    "\n",
    "data[\"locations\"] = [\n",
    "(456, 320), # location 0 - the depot\n",
    "(228, 0),    # location 1\n",
    "(912, 0),    # location 2\n",
    "(0, 80),     # location 3\n",
    "(114, 80),   # location 4\n",
    "(570, 160),  # location 5\n",
    "(798, 160),  # location 6\n",
    "(342, 240),  # location 7\n",
    "(684, 240),  # location 8\n",
    "(570, 400),  # location 9\n",
    "(912, 400),  # location 10\n",
    "(114, 480),  # location 11\n",
    "(228, 480),  # location 12\n",
    "(342, 560),  # location 13\n",
    "(684, 560),  # location 14\n",
    "(0, 640),    # location 15\n",
    "(798, 640)   # location 16\n",
    "]  \n",
    "\n",
    "data[\"distance_matrix\"] = [\n",
    "    [0, 548, 776, 696, 582, 274, 502, 194, 308, 194, 536, 502, 388, 354, 468, 776, 662],\n",
    "    [548, 0, 684, 308, 194, 502, 730, 354, 696, 742, 1084, 594, 480, 674, 1016, 868, 1210],\n",
    "    [776, 684, 0, 992, 878, 502, 274, 810, 468, 742, 400, 1278, 1164, 1130, 788, 1552, 754],\n",
    "    [696, 308, 992, 0, 114, 650, 878, 502, 844, 890, 1232, 514, 628, 822, 1164, 560, 1358],\n",
    "    [582, 194, 878, 114, 0, 536, 764, 388, 730, 776, 1118, 400, 514, 708, 1050, 674, 1244],\n",
    "    [274, 502, 502, 650, 536, 0, 228, 308, 194, 240, 582, 776, 662, 628, 514, 1050, 708],\n",
    "    [502, 730, 274, 878, 764, 228, 0, 536, 194, 468, 354, 1004, 890, 856, 514, 1278, 480],\n",
    "    [194, 354, 810, 502, 388, 308, 536, 0, 342, 388, 730, 468, 354, 320, 662, 742, 856],\n",
    "    [308, 696, 468, 844, 730, 194, 194, 342, 0, 274, 388, 810, 696, 662, 320, 1084, 514],\n",
    "    [194, 742, 742, 890, 776, 240, 468, 388, 274, 0, 342, 536, 422, 388, 274, 810, 468],\n",
    "    [536, 1084, 400, 1232, 1118, 582, 354, 730, 388, 342, 0, 878, 764, 730, 388, 1152, 354],\n",
    "    [502, 594, 1278, 514, 400, 776, 1004, 468, 810, 536, 878, 0, 114, 308, 650, 274, 844],\n",
    "    [388, 480, 1164, 628, 514, 662, 890, 354, 696, 422, 764, 114, 0, 194, 536, 388, 730],\n",
    "    [354, 674, 1130, 822, 708, 628, 856, 320, 662, 388, 730, 308, 194, 0, 342, 422, 536],\n",
    "    [468, 1016, 788, 1164, 1050, 514, 514, 662, 320, 274, 388, 650, 536, 342, 0, 764, 194],\n",
    "    [776, 868, 1552, 560, 674, 1050, 1278, 742, 1084, 810, 1152, 274, 388, 422, 764, 0, 798],\n",
    "    [662, 1210, 754, 1358, 1244, 708, 480, 856, 514, 468, 354, 844, 730, 536, 194, 798, 0]\n",
    "]\n",
    "\n",
    "data[\"num_vehicles\"] = 1\n",
    "data[\"depot\"] = 0"
   ]
  },
  {
   "cell_type": "markdown",
   "metadata": {},
   "source": [
    "### 3. 建立傳送模型\n",
    "\n",
    "- 程式主要部分中的下列程式碼會建立索引管理員 (manager) 和轉送模型 (routing)。\n",
    "\n",
    "- `manager.IndexToNode` 方法會將解題工具的內部索引 (您可以放心忽略) 轉換為位置的數字。位置數字對應距離矩陣的索引。\n",
    "\n",
    "- 若路線的起始點不是 Depot，則需設定 start 與 end, 可參考以下文章: https://developers.google.com/optimization/routing/routing_tasks?hl=zh-tw#setting_start_and_end_locations_for_routes"
   ]
  },
  {
   "cell_type": "code",
   "execution_count": 69,
   "metadata": {},
   "outputs": [
    {
     "name": "stdout",
     "output_type": "stream",
     "text": [
      "Objective: 4384 miles\n",
      "Route for vehicle 0:\n",
      " 0 -> 9 -> 5 -> 8 -> 6 -> 2 -> 10 -> 16 -> 14 -> 13 -> 12 -> 11 -> 15 -> 3 -> 4 -> 1 -> 7 -> 0\n",
      "\n"
     ]
    }
   ],
   "source": [
    "def print_solution(manager, routing, solution):\n",
    "    \"\"\"Prints solution on console.\"\"\"\n",
    "    print(f\"Objective: {solution.ObjectiveValue()} miles\")\n",
    "    index = routing.Start(0)\n",
    "    plan_output = \"Route for vehicle 0:\\n\"\n",
    "    route_distance = 0\n",
    "    while not routing.IsEnd(index):\n",
    "        plan_output += f\" {manager.IndexToNode(index)} ->\"\n",
    "        previous_index = index\n",
    "        index = solution.Value(routing.NextVar(index))\n",
    "        route_distance += routing.GetArcCostForVehicle(previous_index, index, 0)\n",
    "    plan_output += f\" {manager.IndexToNode(index)}\\n\"\n",
    "    print(plan_output)\n",
    "    plan_output += f\"Route distance: {route_distance}miles\\n\"\n",
    "\n",
    "def get_routes(solution, routing, manager):\n",
    "    routes = []\n",
    "    for route_nbr in range(routing.vehicles()):\n",
    "        index = routing.Start(route_nbr)\n",
    "        route = [manager.IndexToNode(index)]\n",
    "        while not routing.IsEnd(index):\n",
    "            index = solution.Value(routing.NextVar(index))\n",
    "            route.append(manager.IndexToNode(index))\n",
    "        routes.append(route)\n",
    "    return routes\n",
    "\n",
    "def main():\n",
    "    # Create the routing index manager.\n",
    "    manager = pywrapcp.RoutingIndexManager(len(data[\"distance_matrix\"]), data[\"num_vehicles\"], data[\"depot\"])\n",
    "    # Create Routing Model.\n",
    "    routing = pywrapcp.RoutingModel(manager)\n",
    "\n",
    "    def distance_callback(from_index, to_index):\n",
    "        # Convert from routing variable Index to distance matrix NodeIndex.\n",
    "        from_node = manager.IndexToNode(from_index)\n",
    "        to_node = manager.IndexToNode(to_index)\n",
    "        return data[\"distance_matrix\"][from_node][to_node]\n",
    "    transit_callback_index = routing.RegisterTransitCallback(distance_callback)\n",
    "    routing.SetArcCostEvaluatorOfAllVehicles(transit_callback_index) # Define cost of each arc.\n",
    "\n",
    "    # Setting first solution heuristic.\n",
    "    search_parameters = pywrapcp.DefaultRoutingSearchParameters()\n",
    "    search_parameters.first_solution_strategy = (\n",
    "        routing_enums_pb2.FirstSolutionStrategy.PATH_CHEAPEST_ARC\n",
    "    )\n",
    "    search_parameters.local_search_metaheuristic = (\n",
    "        routing_enums_pb2.LocalSearchMetaheuristic.GREEDY_DESCENT\n",
    "    )\n",
    "    search_parameters.solution_limit = 100\n",
    "    search_parameters.time_limit.seconds = 5\n",
    "    # search_parameters.log_search = True\n",
    "\n",
    "    # Solve the problem.\n",
    "    solution = routing.SolveWithParameters(search_parameters)\n",
    "\n",
    "    if solution:\n",
    "        print_solution(manager, routing, solution)\n",
    "        routes = get_routes(solution, routing, manager)\n",
    "    else:\n",
    "        print('No solution')\n",
    "\n",
    "if __name__ == \"__main__\":\n",
    "    main()"
   ]
  },
  {
   "cell_type": "markdown",
   "metadata": {},
   "source": [
    "由於 Routing Solver 並不總是向 TSP 返回最佳解，因為路徑問題在計算上很難處理。\n",
    "\n",
    "為了找到更好的解決方案，您可以使用更高級的搜尋策略，稱為 Guided Local Search ，它使 Solver 能夠逃脫 Local Minimum - 比所有附近路線都短的解決方案，但不是 Global Minimum。遠離 Local Minimum 後，Solver 繼續搜尋答案。\n",
    "\n",
    "更多搜尋方法: https://developers.google.com/optimization/routing/routing_options"
   ]
  },
  {
   "cell_type": "code",
   "execution_count": 22,
   "metadata": {},
   "outputs": [
    {
     "data": {
      "text/plain": [
       "'\\nWhen using GUIDED_LOCAL_SEARCH or other metaheuristics, \\nyou need to set a time limit for the solver \\n— otherwise the solver will not terminate. \\nThe preceding code sets a time limit of 30 seconds.\\n'"
      ]
     },
     "execution_count": 22,
     "metadata": {},
     "output_type": "execute_result"
    }
   ],
   "source": [
    "# guided local search\n",
    "search_parameters = pywrapcp.DefaultRoutingSearchParameters()\n",
    "search_parameters.local_search_metaheuristic = (\n",
    "    routing_enums_pb2.LocalSearchMetaheuristic.GUIDED_LOCAL_SEARCH)\n",
    "search_parameters.time_limit.seconds = 30\n",
    "search_parameters.log_search = True\n",
    "\n",
    "\"\"\"\n",
    "When using GUIDED_LOCAL_SEARCH or other metaheuristics, \n",
    "you need to set a time limit for the solver \n",
    "— otherwise the solver will not terminate. \n",
    "The preceding code sets a time limit of 30 seconds.\n",
    "\"\"\""
   ]
  },
  {
   "cell_type": "markdown",
   "metadata": {},
   "source": [
    "由於 Routing Solver 是處理整數，因此，如果距離矩陣包含非整數項目，您就必須將距離四捨五入為整數。如果有些差異比較小，則四捨五入會影響解決方案。\n",
    "\n",
    "如要避免四捨五入的問題，您可以 scale 距離矩陣：將矩陣的所有項目乘以 100。這會讓任何路徑的長度乘以 100 倍，但不會改變解決方案。這種做法的好處是，當您將矩陣項目四捨五入時，與距離相差的小數值 (最多為 0.5) 是很小的，因此對解決方案沒有太大的影響。\n",
    "\n",
    "縮放距離矩陣時，您也必須變更 Solution Printer，將縮放後的路徑長度除以縮放比例係數，這樣才能顯示該路徑未縮放的距離。"
   ]
  }
 ],
 "metadata": {
  "kernelspec": {
   "display_name": "Python 3",
   "language": "python",
   "name": "python3"
  },
  "language_info": {
   "codemirror_mode": {
    "name": "ipython",
    "version": 3
   },
   "file_extension": ".py",
   "mimetype": "text/x-python",
   "name": "python",
   "nbconvert_exporter": "python",
   "pygments_lexer": "ipython3",
   "version": "3.10.5"
  },
  "orig_nbformat": 4
 },
 "nbformat": 4,
 "nbformat_minor": 2
}
