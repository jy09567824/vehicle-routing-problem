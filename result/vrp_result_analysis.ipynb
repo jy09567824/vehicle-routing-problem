{
 "cells": [
  {
   "cell_type": "code",
   "execution_count": 1,
   "metadata": {},
   "outputs": [],
   "source": [
    "import pandas as pd\n",
    "import numpy as np\n",
    "import matplotlib.pyplot as plt\n",
    "import seaborn as sns\n",
    "sns.set()"
   ]
  },
  {
   "cell_type": "code",
   "execution_count": 35,
   "metadata": {},
   "outputs": [],
   "source": [
    "df_25_1 = pd.read_csv('./vrp_result_25x25_10_20231203.csv')\n",
    "df_25_2 = pd.read_csv('./vrp_result_25x25_20_20231203.csv')\n",
    "df_25 = pd.concat([df_25_1, df_25_2])\n",
    "df_25 = df_25.drop('Unnamed: 0', axis=1)"
   ]
  },
  {
   "cell_type": "code",
   "execution_count": 39,
   "metadata": {},
   "outputs": [
    {
     "data": {
      "text/plain": [
       "0     596.0\n",
       "1     559.0\n",
       "2     573.0\n",
       "3     553.0\n",
       "4     594.0\n",
       "      ...  \n",
       "75    553.0\n",
       "76    593.0\n",
       "77    557.0\n",
       "78    579.0\n",
       "79    559.0\n",
       "Name: travel_time, Length: 120, dtype: float64"
      ]
     },
     "execution_count": 39,
     "metadata": {},
     "output_type": "execute_result"
    }
   ],
   "source": [
    "df_25['travel_time'] + 200"
   ]
  }
 ],
 "metadata": {
  "kernelspec": {
   "display_name": "Python 3",
   "language": "python",
   "name": "python3"
  },
  "language_info": {
   "codemirror_mode": {
    "name": "ipython",
    "version": 3
   },
   "file_extension": ".py",
   "mimetype": "text/x-python",
   "name": "python",
   "nbconvert_exporter": "python",
   "pygments_lexer": "ipython3",
   "version": "3.10.5"
  }
 },
 "nbformat": 4,
 "nbformat_minor": 2
}
